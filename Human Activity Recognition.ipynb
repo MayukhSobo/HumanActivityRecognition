{
 "cells": [
  {
   "cell_type": "code",
   "execution_count": 1,
   "metadata": {},
   "outputs": [],
   "source": [
    "import numpy as np\n",
    "import pandas as pd\n",
    "import matplotlib.pyplot as plt\n",
    "import seaborn as sns\n",
    "from tabulate import tabulate"
   ]
  },
  {
   "cell_type": "code",
   "execution_count": 151,
   "metadata": {},
   "outputs": [],
   "source": [
    "plt.style.use('ggplot')\n",
    "%config InlineBackend.figure_format = 'retina'\n",
    "sns.set(rc={'figure.figsize':(10,6)})"
   ]
  },
  {
   "cell_type": "code",
   "execution_count": 3,
   "metadata": {},
   "outputs": [
    {
     "name": "stdout",
     "output_type": "stream",
     "text": [
      "\u001b[1m\u001b[37minstance-gpu\u001b[m  Sat Feb  2 10:51:28 2019\r\n",
      "\u001b[36m[0]\u001b[m \u001b[34mTesla P100-PCIE-16GB\u001b[m |\u001b[31m 39'C\u001b[m, \u001b[32m  0 %\u001b[m | \u001b[36m\u001b[1m\u001b[33m   82\u001b[m / \u001b[33m16280\u001b[m MB | \u001b[1m\u001b[30mroot\u001b[m(\u001b[33m82M\u001b[m)\r\n"
     ]
    }
   ],
   "source": [
    "!gpustat"
   ]
  },
  {
   "cell_type": "code",
   "execution_count": 4,
   "metadata": {},
   "outputs": [
    {
     "name": "stdout",
     "output_type": "stream",
     "text": [
      "breast_cancer_1.csv  Human Activity Recognition.ipynb  UCI HAR Dataset\r\n",
      "HAR_RAW_1.csv\t     nohup.out\t\t\t       UCI HAR Dataset.names\r\n"
     ]
    }
   ],
   "source": [
    "!ls"
   ]
  },
  {
   "cell_type": "code",
   "execution_count": 5,
   "metadata": {},
   "outputs": [
    {
     "name": "stdout",
     "output_type": "stream",
     "text": [
      "body_acc_x_train.txt  body_gyro_x_train.txt  total_acc_x_train.txt\r\n",
      "body_acc_y_train.txt  body_gyro_y_train.txt  total_acc_y_train.txt\r\n",
      "body_acc_z_train.txt  body_gyro_z_train.txt  total_acc_z_train.txt\r\n"
     ]
    }
   ],
   "source": [
    "!ls \"UCI HAR Dataset\"/\"train\"/\"Inertial Signals\""
   ]
  },
  {
   "cell_type": "code",
   "execution_count": 6,
   "metadata": {},
   "outputs": [
    {
     "name": "stdout",
     "output_type": "stream",
     "text": [
      "128\n"
     ]
    }
   ],
   "source": [
    "%%sh\n",
    "head -n 1 \"UCI HAR Dataset\"/\"train\"/\"Inertial Signals\"/body_acc_x_train.txt | wc -w"
   ]
  },
  {
   "cell_type": "code",
   "execution_count": 7,
   "metadata": {},
   "outputs": [
    {
     "name": "stdout",
     "output_type": "stream",
     "text": [
      "7352\n",
      "2947\n"
     ]
    }
   ],
   "source": [
    "%%sh\n",
    "cat \"UCI HAR Dataset\"/\"train\"/y_train.txt | wc -l\n",
    "cat \"UCI HAR Dataset\"/\"test\"/y_test.txt | wc -l"
   ]
  },
  {
   "cell_type": "markdown",
   "metadata": {},
   "source": [
    "### Preparing the dataset"
   ]
  },
  {
   "cell_type": "code",
   "execution_count": 8,
   "metadata": {},
   "outputs": [],
   "source": [
    "SIGNALS = [\n",
    "    'body_acc_x',\n",
    "    'body_acc_y',\n",
    "    'body_acc_z',\n",
    "    'body_gyro_x',\n",
    "    'body_gyro_y',\n",
    "    'body_gyro_z',\n",
    "    'total_acc_x',\n",
    "    'total_acc_y',\n",
    "    'total_acc_z'\n",
    "]"
   ]
  },
  {
   "cell_type": "code",
   "execution_count": 9,
   "metadata": {},
   "outputs": [],
   "source": [
    "def get_data(subset, part, oneHotEncoded=True):\n",
    "    if part == 'features':\n",
    "        all_signals = []\n",
    "        for signal in SIGNALS:\n",
    "            all_signals.append(np.genfromtxt(\n",
    "                \"UCI HAR Dataset/{}/Inertial Signals/{}_{}.txt\".format(subset, signal, subset)))\n",
    "        return np.transpose(all_signals, (1, 2, 0))\n",
    "    elif part == 'labels':\n",
    "        y = np.genfromtxt(\"UCI HAR Dataset/{s}/y_{s}.txt\".format(s=subset))\n",
    "        if oneHotEncoded:\n",
    "            return pd.get_dummies(y).values\n",
    "        return y"
   ]
  },
  {
   "cell_type": "code",
   "execution_count": 10,
   "metadata": {},
   "outputs": [
    {
     "name": "stdout",
     "output_type": "stream",
     "text": [
      "CPU times: user 8.35 s, sys: 626 ms, total: 8.98 s\n",
      "Wall time: 8.98 s\n"
     ]
    }
   ],
   "source": [
    "%%time\n",
    "X_train = get_data(subset='train', part='features')\n",
    "X_test = get_data(subset='test', part='features')"
   ]
  },
  {
   "cell_type": "code",
   "execution_count": 11,
   "metadata": {},
   "outputs": [
    {
     "name": "stdout",
     "output_type": "stream",
     "text": [
      "CPU times: user 32.2 ms, sys: 3.15 ms, total: 35.3 ms\n",
      "Wall time: 33.2 ms\n"
     ]
    }
   ],
   "source": [
    "%%time\n",
    "y_train = get_data(subset='train', part='labels')\n",
    "y_test = get_data(subset='test', part='labels')"
   ]
  },
  {
   "cell_type": "code",
   "execution_count": 12,
   "metadata": {},
   "outputs": [
    {
     "data": {
      "text/plain": [
       "(7352, 128, 9)"
      ]
     },
     "execution_count": 12,
     "metadata": {},
     "output_type": "execute_result"
    }
   ],
   "source": [
    "X_train.shape"
   ]
  },
  {
   "cell_type": "code",
   "execution_count": 13,
   "metadata": {},
   "outputs": [
    {
     "data": {
      "text/plain": [
       "(2947, 128, 9)"
      ]
     },
     "execution_count": 13,
     "metadata": {},
     "output_type": "execute_result"
    }
   ],
   "source": [
    "X_test.shape"
   ]
  },
  {
   "cell_type": "code",
   "execution_count": 14,
   "metadata": {},
   "outputs": [
    {
     "data": {
      "text/plain": [
       "(7352, 6)"
      ]
     },
     "execution_count": 14,
     "metadata": {},
     "output_type": "execute_result"
    }
   ],
   "source": [
    "y_train.shape"
   ]
  },
  {
   "cell_type": "code",
   "execution_count": 15,
   "metadata": {},
   "outputs": [
    {
     "data": {
      "text/plain": [
       "(2947, 6)"
      ]
     },
     "execution_count": 15,
     "metadata": {},
     "output_type": "execute_result"
    }
   ],
   "source": [
    "y_test.shape"
   ]
  },
  {
   "cell_type": "markdown",
   "metadata": {},
   "source": [
    "### Building a LSTM structure"
   ]
  },
  {
   "cell_type": "code",
   "execution_count": 16,
   "metadata": {},
   "outputs": [
    {
     "data": {
      "text/plain": [
       "(128, 9)"
      ]
     },
     "execution_count": 16,
     "metadata": {},
     "output_type": "execute_result"
    }
   ],
   "source": [
    "X_train.shape[1:]"
   ]
  },
  {
   "cell_type": "code",
   "execution_count": 17,
   "metadata": {},
   "outputs": [
    {
     "name": "stderr",
     "output_type": "stream",
     "text": [
      "Using TensorFlow backend.\n"
     ]
    }
   ],
   "source": [
    "from keras.layers import LSTM, Dropout, Dense\n",
    "from keras.models import Sequential"
   ]
  },
  {
   "cell_type": "code",
   "execution_count": 18,
   "metadata": {},
   "outputs": [],
   "source": [
    "from talos import live\n",
    "import talos"
   ]
  },
  {
   "cell_type": "code",
   "execution_count": 23,
   "metadata": {},
   "outputs": [],
   "source": [
    "def get_best_lstm_model(x_train, y_test, x_val, y_val, params):\n",
    "\n",
    "    timesteps, data_point_size = X_train.shape[1:]\n",
    "    n_classes = y_train.shape[1]\n",
    "\n",
    "    model = Sequential()\n",
    "    \n",
    "    model.add(LSTM(units=params['first_neuron'], \n",
    "                   input_shape=(timesteps, data_point_size)))\n",
    "    model.add(Dropout(rate=params['dropout']))\n",
    "    \n",
    "    model.add(Dense(n_classes, activation='softmax'))\n",
    "    \n",
    "    model.compile(optimizer=params['optimizer'],\n",
    "                 loss=params['losses'],\n",
    "                 metrics=['accuracy'])\n",
    "    \n",
    "    history = model.fit(x_train, y_train, \n",
    "                        validation_data=[x_val, y_val],\n",
    "                        batch_size=params['batch_size'],\n",
    "                        callbacks=[live()],\n",
    "                        epochs=params['epochs'],\n",
    "                        verbose=2)\n",
    "\n",
    "    return history, model"
   ]
  },
  {
   "cell_type": "code",
   "execution_count": 24,
   "metadata": {},
   "outputs": [
    {
     "data": {
      "text/plain": [
       "6"
      ]
     },
     "execution_count": 24,
     "metadata": {},
     "output_type": "execute_result"
    }
   ],
   "source": [
    "y_train.shape[1]"
   ]
  },
  {
   "cell_type": "code",
   "execution_count": 25,
   "metadata": {},
   "outputs": [],
   "source": [
    "params = {\n",
    "    'optimizer': ['Adam'],\n",
    "    'losses': ['binary_crossentropy'],\n",
    "    'first_neuron': [16, 32, 64],\n",
    "    'batch_size': [16],\n",
    "    'epochs': [20],\n",
    "    'dropout': [0.3, 0.5, 0.7]\n",
    "}"
   ]
  },
  {
   "cell_type": "code",
   "execution_count": 148,
   "metadata": {},
   "outputs": [],
   "source": [
    "get_ipython().run_line_magic('matplotlib', 'inline')"
   ]
  },
  {
   "cell_type": "markdown",
   "metadata": {},
   "source": [
    "### Randomised GridSearch with one layer LSTM"
   ]
  },
  {
   "cell_type": "code",
   "execution_count": null,
   "metadata": {},
   "outputs": [],
   "source": [
    "# The ouput of this cell has been omitted because it\n",
    "# the connection from the jupyter server is broken due to\n",
    "# poor internet connections.\n",
    "\n",
    "# This code runs for almost 6 hours on my GPU (Nvidia Titan XP)\n",
    "t = talos.Scan(x=X_train, y=y_train,\n",
    "          x_val=X_test, y_val=y_test,\n",
    "          model=get_best_lstm_model,\n",
    "          params=params, search_method='random',\n",
    "          shuffle=True, dataset_name='HAR_RAW',\n",
    "          experiment_no='1', seed=42)"
   ]
  },
  {
   "cell_type": "code",
   "execution_count": 31,
   "metadata": {},
   "outputs": [
    {
     "data": {
      "text/plain": [
       "complete_time            02/02/19/16:10\n",
       "experiment_name               HAR_RAW_1\n",
       "grid_downsample                    None\n",
       "random_method          uniform_mersenne\n",
       "reduce_loss                       False\n",
       "reduction_interval                   50\n",
       "reduction_method                   None\n",
       "reduction_metric                val_acc\n",
       "reduction_threshold                 0.2\n",
       "reduction_window                     20\n",
       "x_shape                  (7352, 128, 9)\n",
       "y_shape                       (7352, 6)\n",
       "dtype: object"
      ]
     },
     "execution_count": 31,
     "metadata": {},
     "output_type": "execute_result"
    }
   ],
   "source": [
    "t.details"
   ]
  },
  {
   "cell_type": "code",
   "execution_count": 35,
   "metadata": {},
   "outputs": [
    {
     "name": "stdout",
     "output_type": "stream",
     "text": [
      "We have fit 9 number of models\n"
     ]
    }
   ],
   "source": [
    "print('We have fit {} number of models'.format(len(t.saved_models)))"
   ]
  },
  {
   "cell_type": "code",
   "execution_count": 100,
   "metadata": {},
   "outputs": [],
   "source": [
    "epoch_results = t.data.drop(['losses', 'optimizer', \n",
    "             'epochs', 'batch_size', 'round_epochs'], axis=1)\n",
    "epoch_results['val_loss'] = epoch_results.val_loss.astype(float, inplace=True)\n",
    "epoch_results['loss'] = epoch_results.loss.astype(float, inplace=True)\n",
    "epoch_results['val_acc'] = epoch_results.val_acc.astype(float, inplace=True)\n",
    "epoch_results['acc'] = epoch_results.acc.astype(float, inplace=True)\n",
    "epoch_results.sort_values(by='val_acc', ascending=False, inplace=True)\n",
    "columns = ['Val Loss', 'Train Loss',\n",
    "                        'Val Accuracy', 'Train Accuracy',\n",
    "                        'LSTM cells', 'Dropout']"
   ]
  },
  {
   "cell_type": "code",
   "execution_count": 101,
   "metadata": {},
   "outputs": [
    {
     "name": "stdout",
     "output_type": "stream",
     "text": [
      "╒════════════╤══════════════╤════════════════╤══════════════════╤══════════════╤═══════════╕\n",
      "│   Val Loss │   Train Loss │   Val Accuracy │   Train Accuracy │   LSTM cells │   Dropout │\n",
      "╞════════════╪══════════════╪════════════════╪══════════════════╪══════════════╪═══════════╡\n",
      "│  0.0829701 │    0.0447081 │       0.971044 │         0.982567 │           64 │       0.3 │\n",
      "├────────────┼──────────────┼────────────────┼──────────────────┼──────────────┼───────────┤\n",
      "│  0.0801187 │    0.0529833 │       0.96816  │         0.979529 │           64 │       0.5 │\n",
      "├────────────┼──────────────┼────────────────┼──────────────────┼──────────────┼───────────┤\n",
      "│  0.0936313 │    0.0711846 │       0.967255 │         0.976356 │           64 │       0.7 │\n",
      "├────────────┼──────────────┼────────────────┼──────────────────┼──────────────┼───────────┤\n",
      "│  0.107525  │    0.0581586 │       0.96488  │         0.978963 │           32 │       0.5 │\n",
      "├────────────┼──────────────┼────────────────┼──────────────────┼──────────────┼───────────┤\n",
      "│  0.113176  │    0.0646532 │       0.961769 │         0.97792  │           32 │       0.3 │\n",
      "├────────────┼──────────────┼────────────────┼──────────────────┼──────────────┼───────────┤\n",
      "│  0.132993  │    0.080815  │       0.960355 │         0.97257  │           32 │       0.7 │\n",
      "├────────────┼──────────────┼────────────────┼──────────────────┼──────────────┼───────────┤\n",
      "│  0.139463  │    0.134935  │       0.956566 │         0.948699 │           16 │       0.3 │\n",
      "├────────────┼──────────────┼────────────────┼──────────────────┼──────────────┼───────────┤\n",
      "│  0.136943  │    0.116637  │       0.954021 │         0.95287  │           16 │       0.5 │\n",
      "├────────────┼──────────────┼────────────────┼──────────────────┼──────────────┼───────────┤\n",
      "│  0.175511  │    0.182294  │       0.919692 │         0.914558 │           16 │       0.7 │\n",
      "╘════════════╧══════════════╧════════════════╧══════════════════╧══════════════╧═══════════╛\n"
     ]
    }
   ],
   "source": [
    "print(tabulate(epoch_results.values, \n",
    "               headers=columns, \n",
    "               tablefmt='fancy_grid'))"
   ]
  },
  {
   "cell_type": "code",
   "execution_count": 102,
   "metadata": {},
   "outputs": [],
   "source": [
    "r = talos.Reporting(t)"
   ]
  },
  {
   "cell_type": "code",
   "execution_count": 115,
   "metadata": {},
   "outputs": [
    {
     "data": {
      "text/plain": [
       "array([[3, '20', '64', 'binary_crossentropy', 'Adam', '16', '0.3', 0],\n",
       "       [7, '20', '64', 'binary_crossentropy', 'Adam', '16', '0.5', 1],\n",
       "       [0, '20', '64', 'binary_crossentropy', 'Adam', '16', '0.7', 2],\n",
       "       [2, '20', '32', 'binary_crossentropy', 'Adam', '16', '0.5', 3],\n",
       "       [8, '20', '32', 'binary_crossentropy', 'Adam', '16', '0.3', 4],\n",
       "       [6, '20', '32', 'binary_crossentropy', 'Adam', '16', '0.7', 5],\n",
       "       [5, '20', '16', 'binary_crossentropy', 'Adam', '16', '0.3', 6],\n",
       "       [1, '20', '16', 'binary_crossentropy', 'Adam', '16', '0.5', 7],\n",
       "       [4, '20', '16', 'binary_crossentropy', 'Adam', '16', '0.7', 8]],\n",
       "      dtype=object)"
      ]
     },
     "execution_count": 115,
     "metadata": {},
     "output_type": "execute_result"
    }
   ],
   "source": [
    "r.best_params()"
   ]
  },
  {
   "cell_type": "code",
   "execution_count": 142,
   "metadata": {},
   "outputs": [],
   "source": [
    "# from keras.callbacks import Callback\n",
    "# from IPython.display import clear_output"
   ]
  },
  {
   "cell_type": "code",
   "execution_count": 143,
   "metadata": {},
   "outputs": [],
   "source": [
    "# Code Courtesy : https://gist.github.com/stared/dfb4dfaf6d9a8501cd1cc8b8cb806d2e\n",
    "\n",
    "# class PlotLearning(Callback):\n",
    "#     def on_train_begin(self, logs={}):\n",
    "#         self.i = 0\n",
    "#         self.x = []\n",
    "#         self.losses = []\n",
    "#         self.val_losses = []\n",
    "#         self.acc = []\n",
    "#         self.val_acc = []\n",
    "#         self.fig = plt.figure()\n",
    "        \n",
    "#         self.logs = []\n",
    "\n",
    "#     def on_epoch_end(self, epoch, logs={}):\n",
    "        \n",
    "#         self.logs.append(logs)\n",
    "#         self.x.append(self.i)\n",
    "#         self.losses.append(logs.get('loss'))\n",
    "#         self.val_losses.append(logs.get('val_loss'))\n",
    "#         self.acc.append(logs.get('acc'))\n",
    "#         self.val_acc.append(logs.get('val_acc'))\n",
    "#         self.i += 1\n",
    "#         f, (ax1, ax2) = plt.subplots(1, 2, sharex=True)\n",
    "        \n",
    "#         clear_output(wait=True)\n",
    "        \n",
    "#         ax1.set_yscale('log')\n",
    "#         ax1.plot(self.x, self.losses, label=\"loss\")\n",
    "#         ax1.plot(self.x, self.val_losses, label=\"val_loss\")\n",
    "#         ax1.legend()\n",
    "        \n",
    "#         ax2.plot(self.x, self.acc, label=\"accuracy\")\n",
    "#         ax2.plot(self.x, self.val_acc, label=\"validation accuracy\")\n",
    "#         ax2.legend()\n",
    "        \n",
    "#         plt.show();\n",
    "        \n",
    "# plot = PlotLearning()"
   ]
  },
  {
   "cell_type": "markdown",
   "metadata": {},
   "source": [
    "### Randomised GridSearch with 2 layer GridSearch"
   ]
  },
  {
   "cell_type": "code",
   "execution_count": 149,
   "metadata": {},
   "outputs": [],
   "source": [
    "def get_best_lstm_model_2_layer(x_train, y_test, x_val, y_val, params):\n",
    "\n",
    "    timesteps, data_point_size = X_train.shape[1:]\n",
    "    n_classes = y_train.shape[1]\n",
    "\n",
    "    model = Sequential()\n",
    "    \n",
    "    model.add(LSTM(units=params['first_neuron'], \n",
    "                   input_shape=(timesteps, data_point_size),\n",
    "                   return_sequences=True))\n",
    "    model.add(Dropout(rate=params['dropout']))\n",
    "    \n",
    "    model.add(LSTM(units=params['first_neuron']))\n",
    "    model.add(Dropout(rate=params['dropout']))\n",
    "    \n",
    "    model.add(Dense(n_classes, activation='softmax'))\n",
    "    \n",
    "    model.compile(optimizer=params['optimizer'],\n",
    "                 loss=params['losses'],\n",
    "                 metrics=['accuracy'])\n",
    "    \n",
    "    history = model.fit(x_train, y_train, \n",
    "                        validation_data=[x_val, y_val],\n",
    "                        batch_size=params['batch_size'],\n",
    "                        callbacks=[live()],\n",
    "                        epochs=params['epochs'],\n",
    "                        verbose=2)\n",
    "\n",
    "    return history, model"
   ]
  },
  {
   "cell_type": "code",
   "execution_count": 147,
   "metadata": {},
   "outputs": [],
   "source": [
    "params = {\n",
    "    'optimizer': ['Adam'],\n",
    "    'losses': ['binary_crossentropy'],\n",
    "    'first_neuron': [64],\n",
    "    'batch_size': [16],\n",
    "    'epochs': [20],\n",
    "    'dropout': [0.3, 0.5]\n",
    "}"
   ]
  },
  {
   "cell_type": "code",
   "execution_count": 152,
   "metadata": {},
   "outputs": [
    {
     "data": {
      "image/png": "[encoded data removed]",
      "text/plain": [
       "<Figure size 864x576 with 2 Axes>"
      ]
     },
     "metadata": {
      "image/png": {
       "height": 313,
       "width": 857
      }
     },
     "output_type": "display_data"
    },
    {
     "name": "stderr",
     "output_type": "stream",
     "text": [
      "\n",
      "100%|██████████| 2/2 [2:21:02<00:00, 4233.94s/it]  \u001b[A"
     ]
    },
    {
     "name": "stdout",
     "output_type": "stream",
     "text": [
      "Scan Finished!\n"
     ]
    }
   ],
   "source": [
    "t = talos.Scan(x=X_train, y=y_train,\n",
    "          x_val=X_test, y_val=y_test,\n",
    "          model=get_best_lstm_model_2_layer,\n",
    "          params=params, search_method='random',\n",
    "          shuffle=True, dataset_name='HAR_RAW',\n",
    "          experiment_no='2', seed=42)"
   ]
  },
  {
   "cell_type": "code",
   "execution_count": 153,
   "metadata": {},
   "outputs": [
    {
     "data": {
      "text/plain": [
       "complete_time            02/02/19/20:30\n",
       "experiment_name               HAR_RAW_2\n",
       "grid_downsample                    None\n",
       "random_method          uniform_mersenne\n",
       "reduce_loss                       False\n",
       "reduction_interval                   50\n",
       "reduction_method                   None\n",
       "reduction_metric                val_acc\n",
       "reduction_threshold                 0.2\n",
       "reduction_window                     20\n",
       "x_shape                  (7352, 128, 9)\n",
       "y_shape                       (7352, 6)\n",
       "dtype: object"
      ]
     },
     "execution_count": 153,
     "metadata": {},
     "output_type": "execute_result"
    }
   ],
   "source": [
    "t.details"
   ]
  },
  {
   "cell_type": "code",
   "execution_count": 154,
   "metadata": {},
   "outputs": [
    {
     "name": "stdout",
     "output_type": "stream",
     "text": [
      "We have fit 2 number of models\n"
     ]
    }
   ],
   "source": [
    "print('We have fit {} number of models'.format(len(t.saved_models)))"
   ]
  },
  {
   "cell_type": "code",
   "execution_count": 155,
   "metadata": {},
   "outputs": [],
   "source": [
    "epoch_results = t.data.drop(['losses', 'optimizer', \n",
    "             'epochs', 'batch_size', 'round_epochs'], axis=1)\n",
    "epoch_results['val_loss'] = epoch_results.val_loss.astype(float, inplace=True)\n",
    "epoch_results['loss'] = epoch_results.loss.astype(float, inplace=True)\n",
    "epoch_results['val_acc'] = epoch_results.val_acc.astype(float, inplace=True)\n",
    "epoch_results['acc'] = epoch_results.acc.astype(float, inplace=True)\n",
    "epoch_results.sort_values(by='val_acc', ascending=False, inplace=True)\n",
    "columns = ['Val Loss', 'Train Loss',\n",
    "                        'Val Accuracy', 'Train Accuracy',\n",
    "                        'LSTM cells', 'Dropout']"
   ]
  },
  {
   "cell_type": "code",
   "execution_count": 156,
   "metadata": {},
   "outputs": [
    {
     "name": "stdout",
     "output_type": "stream",
     "text": [
      "╒════════════╤══════════════╤════════════════╤══════════════════╤══════════════╤═══════════╕\n",
      "│   Val Loss │   Train Loss │   Val Accuracy │   Train Accuracy │   LSTM cells │   Dropout │\n",
      "╞════════════╪══════════════╪════════════════╪══════════════════╪══════════════╪═══════════╡\n",
      "│  0.071176  │    0.037237  │       0.971553 │         0.983678 │           64 │       0.3 │\n",
      "├────────────┼──────────────┼────────────────┼──────────────────┼──────────────┼───────────┤\n",
      "│  0.0857582 │    0.0404991 │       0.969743 │         0.984313 │           64 │       0.5 │\n",
      "╘════════════╧══════════════╧════════════════╧══════════════════╧══════════════╧═══════════╛\n"
     ]
    }
   ],
   "source": [
    "print(tabulate(epoch_results.values, \n",
    "               headers=columns, \n",
    "               tablefmt='fancy_grid'))"
   ]
  },
  {
   "cell_type": "code",
   "execution_count": 157,
   "metadata": {},
   "outputs": [],
   "source": [
    "r = talos.Reporting(t)"
   ]
  },
  {
   "cell_type": "code",
   "execution_count": 158,
   "metadata": {},
   "outputs": [
    {
     "data": {
      "text/plain": [
       "array([['20', '64', 'binary_crossentropy', 'Adam', '16', '0.3', 0],\n",
       "       ['20', '64', 'binary_crossentropy', 'Adam', '16', '0.5', 1]],\n",
       "      dtype=object)"
      ]
     },
     "execution_count": 158,
     "metadata": {},
     "output_type": "execute_result"
    }
   ],
   "source": [
    "r.best_params()"
   ]
  },
  {
   "cell_type": "markdown",
   "metadata": {},
   "source": [
    "### Conclusion"
   ]
  },
  {
   "cell_type": "markdown",
   "metadata": {},
   "source": [
    "- Talos is a wonderful library, a little buggy and difficult to get it perfect but reports many things and feels so native to GridSearchCV\n",
    "- Dropouts are fitting the problem without much overfitting but this problem was computationally very expensive even on GPU\n",
    "- Even 20 epochs seems more for the LSTMs. The problem is converging very soon within 15 epochs reminds me the power of LSTMs\n",
    "- With LSTMs we are able to take the maximum validation acuuracy to staggering 97.2% which amazing thinking the fact that our Domain expert features are absent here. Means a person without haveing any domain expertise also can do wonder here.\n",
    "- Building 2 layer LSTM structure didn't do much good but it took more time. Hence it seems better to stick to 1 layer sructure and looking at the number of training points it seems reasonable.\n",
    "- One problems with talos is that it can parallelize a single model fit on GPU but can not parallelize all the model fits from GridSearch."
   ]
  }
 ],
 "metadata": {
  "kernelspec": {
   "display_name": "Python 3",
   "language": "python",
   "name": "python3"
  },
  "language_info": {
   "codemirror_mode": {
    "name": "ipython",
    "version": 3
   },
   "file_extension": ".py",
   "mimetype": "text/x-python",
   "name": "python",
   "nbconvert_exporter": "python",
   "pygments_lexer": "ipython3",
   "version": "3.5.2"
  }
 },
 "nbformat": 4,
 "nbformat_minor": 2
}
